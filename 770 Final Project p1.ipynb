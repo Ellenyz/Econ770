{
 "cells": [
  {
   "cell_type": "markdown",
   "metadata": {},
   "source": [
    "# Predictions of US COVID-19 Pandemic: Comparisons Among Different Models\n",
    "## Final Report\n",
    "### Principal Investigators:\n",
    "Yichen Zhu    (zhu389@wisc.edu) ,\n",
    "Yuzhou Wang   (wang2555@wisc.edu)"
   ]
  },
  {
   "cell_type": "markdown",
   "metadata": {},
   "source": [
    "### 1. Questions to be addressed and method used in this project\n",
    "Reported by WHO, there have been more than 40 million confirmed cases of COVID-19,  including over 1 million deaths globally as of 21 October 2020. While the pandemic in most Asian countries are currently under control, the infection and mortality rate in many countries like US are still unstable. We believe that it is necessary to conduct accurate predictions on the pandemic regionaly and provide instructive suggestions for the US residents and government.\n",
    "\n",
    "Our main task for this project is to make forecast of future pandemic situations. For the sake of selecting a best model to accomplish this task, we compared different models by its predicting performance. We also segregate our analysis into two parts: forecasting on cumulative confirmed cases and on increase in new confirmed cases. For the first part of our study, time-series models including AR2, MA2, ARIMA(2,2,2) and the VAR2 model were applied to predict the one week cumulative US infection rate. In addition to ARIMA model, Prophet model from Facebook were implemented to forecast on increase in US daily new confirmed cases. As a result, we found Probit algorithm with logistic model and seasonality settings has the strongest predicting power."
   ]
  },
  {
   "cell_type": "markdown",
   "metadata": {},
   "source": [
    "## 2. Data\n",
    "We collected data from the \"JHU CSSE COVID-19 Data\" which can be access from https://github.com/CSSEGISandData/COVID-19. This time-series data is in a wide structure. Our study can be segregated into two parts. We first implement multiple predicting models with the US cumulative confirmed cases. Then we switch to the data set of daily confirmed cases and work with the daily difference of new confirmed cases in US."
   ]
  },
  {
   "cell_type": "markdown",
   "metadata": {},
   "source": [
    "## Coding\n",
    "**We include all relavant codes necessary for replication of our study on US daily confirmed cases.**\n",
    "\n",
    "*Note: codes affiliated to the first part of our study (with culumative data) can be found in the R file."
   ]
  },
  {
   "cell_type": "markdown",
   "metadata": {},
   "source": [
    "### Data Cleaning"
   ]
  },
  {
   "cell_type": "code",
   "execution_count": 1,
   "metadata": {},
   "outputs": [],
   "source": [
    "import pandas as pd\n",
    "import numpy as np\n",
    "import seaborn as sns\n",
    "import matplotlib.pyplot as plt\n",
    "import os\n",
    "import datetime\n",
    "import warnings\n",
    "import math as m"
   ]
  },
  {
   "cell_type": "code",
   "execution_count": 2,
   "metadata": {},
   "outputs": [
    {
     "data": {
      "text/plain": [
       "'/Users/ellenyz/OneDrive - UW-Madison/Fall2020/Econ770/GroupProj'"
      ]
     },
     "execution_count": 2,
     "metadata": {},
     "output_type": "execute_result"
    }
   ],
   "source": [
    "os.getcwd()"
   ]
  },
  {
   "cell_type": "code",
   "execution_count": 3,
   "metadata": {},
   "outputs": [
    {
     "data": {
      "text/html": [
       "<div>\n",
       "<style scoped>\n",
       "    .dataframe tbody tr th:only-of-type {\n",
       "        vertical-align: middle;\n",
       "    }\n",
       "\n",
       "    .dataframe tbody tr th {\n",
       "        vertical-align: top;\n",
       "    }\n",
       "\n",
       "    .dataframe thead th {\n",
       "        text-align: right;\n",
       "    }\n",
       "</style>\n",
       "<table border=\"1\" class=\"dataframe\">\n",
       "  <thead>\n",
       "    <tr style=\"text-align: right;\">\n",
       "      <th></th>\n",
       "      <th>UID</th>\n",
       "      <th>iso2</th>\n",
       "      <th>iso3</th>\n",
       "      <th>code3</th>\n",
       "      <th>FIPS</th>\n",
       "      <th>Admin2</th>\n",
       "      <th>Province_State</th>\n",
       "      <th>Country_Region</th>\n",
       "      <th>Lat</th>\n",
       "      <th>Long_</th>\n",
       "      <th>...</th>\n",
       "      <th>11/9/20</th>\n",
       "      <th>11/10/20</th>\n",
       "      <th>11/11/20</th>\n",
       "      <th>11/12/20</th>\n",
       "      <th>11/13/20</th>\n",
       "      <th>11/14/20</th>\n",
       "      <th>11/15/20</th>\n",
       "      <th>11/16/20</th>\n",
       "      <th>11/17/20</th>\n",
       "      <th>11/18/20</th>\n",
       "    </tr>\n",
       "  </thead>\n",
       "  <tbody>\n",
       "    <tr>\n",
       "      <th>106</th>\n",
       "      <td>84004011</td>\n",
       "      <td>US</td>\n",
       "      <td>USA</td>\n",
       "      <td>840</td>\n",
       "      <td>4011.0</td>\n",
       "      <td>Greenlee</td>\n",
       "      <td>Arizona</td>\n",
       "      <td>US</td>\n",
       "      <td>33.214988</td>\n",
       "      <td>-109.240528</td>\n",
       "      <td>...</td>\n",
       "      <td>116</td>\n",
       "      <td>117</td>\n",
       "      <td>120</td>\n",
       "      <td>122</td>\n",
       "      <td>127</td>\n",
       "      <td>128</td>\n",
       "      <td>129</td>\n",
       "      <td>129</td>\n",
       "      <td>132</td>\n",
       "      <td>142</td>\n",
       "    </tr>\n",
       "    <tr>\n",
       "      <th>2539</th>\n",
       "      <td>84046015</td>\n",
       "      <td>US</td>\n",
       "      <td>USA</td>\n",
       "      <td>840</td>\n",
       "      <td>46015.0</td>\n",
       "      <td>Brule</td>\n",
       "      <td>South Dakota</td>\n",
       "      <td>US</td>\n",
       "      <td>43.717564</td>\n",
       "      <td>-99.081190</td>\n",
       "      <td>...</td>\n",
       "      <td>392</td>\n",
       "      <td>400</td>\n",
       "      <td>413</td>\n",
       "      <td>431</td>\n",
       "      <td>441</td>\n",
       "      <td>458</td>\n",
       "      <td>467</td>\n",
       "      <td>474</td>\n",
       "      <td>475</td>\n",
       "      <td>487</td>\n",
       "    </tr>\n",
       "    <tr>\n",
       "      <th>941</th>\n",
       "      <td>84020035</td>\n",
       "      <td>US</td>\n",
       "      <td>USA</td>\n",
       "      <td>840</td>\n",
       "      <td>20035.0</td>\n",
       "      <td>Cowley</td>\n",
       "      <td>Kansas</td>\n",
       "      <td>US</td>\n",
       "      <td>37.237818</td>\n",
       "      <td>-96.837766</td>\n",
       "      <td>...</td>\n",
       "      <td>793</td>\n",
       "      <td>793</td>\n",
       "      <td>861</td>\n",
       "      <td>861</td>\n",
       "      <td>989</td>\n",
       "      <td>989</td>\n",
       "      <td>989</td>\n",
       "      <td>1104</td>\n",
       "      <td>1104</td>\n",
       "      <td>1198</td>\n",
       "    </tr>\n",
       "    <tr>\n",
       "      <th>1077</th>\n",
       "      <td>84021093</td>\n",
       "      <td>US</td>\n",
       "      <td>USA</td>\n",
       "      <td>840</td>\n",
       "      <td>21093.0</td>\n",
       "      <td>Hardin</td>\n",
       "      <td>Kentucky</td>\n",
       "      <td>US</td>\n",
       "      <td>37.697611</td>\n",
       "      <td>-85.963193</td>\n",
       "      <td>...</td>\n",
       "      <td>2679</td>\n",
       "      <td>2752</td>\n",
       "      <td>2839</td>\n",
       "      <td>2880</td>\n",
       "      <td>3009</td>\n",
       "      <td>3120</td>\n",
       "      <td>3204</td>\n",
       "      <td>3257</td>\n",
       "      <td>3342</td>\n",
       "      <td>3405</td>\n",
       "    </tr>\n",
       "    <tr>\n",
       "      <th>1677</th>\n",
       "      <td>84030039</td>\n",
       "      <td>US</td>\n",
       "      <td>USA</td>\n",
       "      <td>840</td>\n",
       "      <td>30039.0</td>\n",
       "      <td>Granite</td>\n",
       "      <td>Montana</td>\n",
       "      <td>US</td>\n",
       "      <td>46.406052</td>\n",
       "      <td>-113.441419</td>\n",
       "      <td>...</td>\n",
       "      <td>83</td>\n",
       "      <td>84</td>\n",
       "      <td>86</td>\n",
       "      <td>86</td>\n",
       "      <td>92</td>\n",
       "      <td>95</td>\n",
       "      <td>101</td>\n",
       "      <td>101</td>\n",
       "      <td>103</td>\n",
       "      <td>107</td>\n",
       "    </tr>\n",
       "  </tbody>\n",
       "</table>\n",
       "<p>5 rows × 313 columns</p>\n",
       "</div>"
      ],
      "text/plain": [
       "           UID iso2 iso3  code3     FIPS    Admin2 Province_State  \\\n",
       "106   84004011   US  USA    840   4011.0  Greenlee        Arizona   \n",
       "2539  84046015   US  USA    840  46015.0     Brule   South Dakota   \n",
       "941   84020035   US  USA    840  20035.0    Cowley         Kansas   \n",
       "1077  84021093   US  USA    840  21093.0    Hardin       Kentucky   \n",
       "1677  84030039   US  USA    840  30039.0   Granite        Montana   \n",
       "\n",
       "     Country_Region        Lat       Long_  ... 11/9/20  11/10/20  11/11/20  \\\n",
       "106              US  33.214988 -109.240528  ...     116       117       120   \n",
       "2539             US  43.717564  -99.081190  ...     392       400       413   \n",
       "941              US  37.237818  -96.837766  ...     793       793       861   \n",
       "1077             US  37.697611  -85.963193  ...    2679      2752      2839   \n",
       "1677             US  46.406052 -113.441419  ...      83        84        86   \n",
       "\n",
       "      11/12/20  11/13/20  11/14/20  11/15/20  11/16/20  11/17/20  11/18/20  \n",
       "106        122       127       128       129       129       132       142  \n",
       "2539       431       441       458       467       474       475       487  \n",
       "941        861       989       989       989      1104      1104      1198  \n",
       "1077      2880      3009      3120      3204      3257      3342      3405  \n",
       "1677        86        92        95       101       101       103       107  \n",
       "\n",
       "[5 rows x 313 columns]"
      ]
     },
     "execution_count": 3,
     "metadata": {},
     "output_type": "execute_result"
    }
   ],
   "source": [
    "dt = pd.read_csv('data/time_series_covid19_confirmed_US.csv')\n",
    "dt.sample(5)"
   ]
  },
  {
   "cell_type": "code",
   "execution_count": 4,
   "metadata": {},
   "outputs": [
    {
     "data": {
      "text/html": [
       "<div>\n",
       "<style scoped>\n",
       "    .dataframe tbody tr th:only-of-type {\n",
       "        vertical-align: middle;\n",
       "    }\n",
       "\n",
       "    .dataframe tbody tr th {\n",
       "        vertical-align: top;\n",
       "    }\n",
       "\n",
       "    .dataframe thead th {\n",
       "        text-align: right;\n",
       "    }\n",
       "</style>\n",
       "<table border=\"1\" class=\"dataframe\">\n",
       "  <thead>\n",
       "    <tr style=\"text-align: right;\">\n",
       "      <th></th>\n",
       "      <th>1/22/20</th>\n",
       "      <th>1/23/20</th>\n",
       "      <th>1/24/20</th>\n",
       "      <th>1/25/20</th>\n",
       "      <th>1/26/20</th>\n",
       "      <th>1/27/20</th>\n",
       "      <th>1/28/20</th>\n",
       "      <th>1/29/20</th>\n",
       "      <th>1/30/20</th>\n",
       "      <th>1/31/20</th>\n",
       "      <th>...</th>\n",
       "      <th>11/9/20</th>\n",
       "      <th>11/10/20</th>\n",
       "      <th>11/11/20</th>\n",
       "      <th>11/12/20</th>\n",
       "      <th>11/13/20</th>\n",
       "      <th>11/14/20</th>\n",
       "      <th>11/15/20</th>\n",
       "      <th>11/16/20</th>\n",
       "      <th>11/17/20</th>\n",
       "      <th>11/18/20</th>\n",
       "    </tr>\n",
       "  </thead>\n",
       "  <tbody>\n",
       "    <tr>\n",
       "      <th>0</th>\n",
       "      <td>0</td>\n",
       "      <td>0</td>\n",
       "      <td>0</td>\n",
       "      <td>0</td>\n",
       "      <td>0</td>\n",
       "      <td>0</td>\n",
       "      <td>0</td>\n",
       "      <td>0</td>\n",
       "      <td>0</td>\n",
       "      <td>0</td>\n",
       "      <td>...</td>\n",
       "      <td>2328</td>\n",
       "      <td>2328</td>\n",
       "      <td>2351</td>\n",
       "      <td>2385</td>\n",
       "      <td>2417</td>\n",
       "      <td>2435</td>\n",
       "      <td>2456</td>\n",
       "      <td>2481</td>\n",
       "      <td>2506</td>\n",
       "      <td>2529</td>\n",
       "    </tr>\n",
       "    <tr>\n",
       "      <th>1</th>\n",
       "      <td>0</td>\n",
       "      <td>0</td>\n",
       "      <td>0</td>\n",
       "      <td>0</td>\n",
       "      <td>0</td>\n",
       "      <td>0</td>\n",
       "      <td>0</td>\n",
       "      <td>0</td>\n",
       "      <td>0</td>\n",
       "      <td>0</td>\n",
       "      <td>...</td>\n",
       "      <td>7345</td>\n",
       "      <td>7348</td>\n",
       "      <td>7409</td>\n",
       "      <td>7454</td>\n",
       "      <td>7523</td>\n",
       "      <td>7596</td>\n",
       "      <td>7646</td>\n",
       "      <td>7696</td>\n",
       "      <td>7772</td>\n",
       "      <td>7849</td>\n",
       "    </tr>\n",
       "    <tr>\n",
       "      <th>2</th>\n",
       "      <td>0</td>\n",
       "      <td>0</td>\n",
       "      <td>0</td>\n",
       "      <td>0</td>\n",
       "      <td>0</td>\n",
       "      <td>0</td>\n",
       "      <td>0</td>\n",
       "      <td>0</td>\n",
       "      <td>0</td>\n",
       "      <td>0</td>\n",
       "      <td>...</td>\n",
       "      <td>1107</td>\n",
       "      <td>1107</td>\n",
       "      <td>1112</td>\n",
       "      <td>1113</td>\n",
       "      <td>1117</td>\n",
       "      <td>1123</td>\n",
       "      <td>1128</td>\n",
       "      <td>1130</td>\n",
       "      <td>1134</td>\n",
       "      <td>1137</td>\n",
       "    </tr>\n",
       "    <tr>\n",
       "      <th>3</th>\n",
       "      <td>0</td>\n",
       "      <td>0</td>\n",
       "      <td>0</td>\n",
       "      <td>0</td>\n",
       "      <td>0</td>\n",
       "      <td>0</td>\n",
       "      <td>0</td>\n",
       "      <td>0</td>\n",
       "      <td>0</td>\n",
       "      <td>0</td>\n",
       "      <td>...</td>\n",
       "      <td>948</td>\n",
       "      <td>948</td>\n",
       "      <td>961</td>\n",
       "      <td>966</td>\n",
       "      <td>973</td>\n",
       "      <td>978</td>\n",
       "      <td>986</td>\n",
       "      <td>993</td>\n",
       "      <td>1004</td>\n",
       "      <td>1008</td>\n",
       "    </tr>\n",
       "    <tr>\n",
       "      <th>4</th>\n",
       "      <td>0</td>\n",
       "      <td>0</td>\n",
       "      <td>0</td>\n",
       "      <td>0</td>\n",
       "      <td>0</td>\n",
       "      <td>0</td>\n",
       "      <td>0</td>\n",
       "      <td>0</td>\n",
       "      <td>0</td>\n",
       "      <td>0</td>\n",
       "      <td>...</td>\n",
       "      <td>2378</td>\n",
       "      <td>2378</td>\n",
       "      <td>2400</td>\n",
       "      <td>2429</td>\n",
       "      <td>2488</td>\n",
       "      <td>2518</td>\n",
       "      <td>2549</td>\n",
       "      <td>2574</td>\n",
       "      <td>2594</td>\n",
       "      <td>2648</td>\n",
       "    </tr>\n",
       "  </tbody>\n",
       "</table>\n",
       "<p>5 rows × 302 columns</p>\n",
       "</div>"
      ],
      "text/plain": [
       "   1/22/20  1/23/20  1/24/20  1/25/20  1/26/20  1/27/20  1/28/20  1/29/20  \\\n",
       "0        0        0        0        0        0        0        0        0   \n",
       "1        0        0        0        0        0        0        0        0   \n",
       "2        0        0        0        0        0        0        0        0   \n",
       "3        0        0        0        0        0        0        0        0   \n",
       "4        0        0        0        0        0        0        0        0   \n",
       "\n",
       "   1/30/20  1/31/20  ...  11/9/20  11/10/20  11/11/20  11/12/20  11/13/20  \\\n",
       "0        0        0  ...     2328      2328      2351      2385      2417   \n",
       "1        0        0  ...     7345      7348      7409      7454      7523   \n",
       "2        0        0  ...     1107      1107      1112      1113      1117   \n",
       "3        0        0  ...      948       948       961       966       973   \n",
       "4        0        0  ...     2378      2378      2400      2429      2488   \n",
       "\n",
       "   11/14/20  11/15/20  11/16/20  11/17/20  11/18/20  \n",
       "0      2435      2456      2481      2506      2529  \n",
       "1      7596      7646      7696      7772      7849  \n",
       "2      1123      1128      1130      1134      1137  \n",
       "3       978       986       993      1004      1008  \n",
       "4      2518      2549      2574      2594      2648  \n",
       "\n",
       "[5 rows x 302 columns]"
      ]
     },
     "execution_count": 4,
     "metadata": {},
     "output_type": "execute_result"
    }
   ],
   "source": [
    "d = dt.loc[:,'1/22/20':] # Take sample from Jan.22 to Nov.18\n",
    "d.head()"
   ]
  },
  {
   "cell_type": "code",
   "execution_count": 5,
   "metadata": {},
   "outputs": [],
   "source": [
    "d = d.transpose()\n",
    "d = d.sum(axis=1)\n",
    "d = d.to_list()  # convert d into numerical list"
   ]
  },
  {
   "cell_type": "code",
   "execution_count": 6,
   "metadata": {},
   "outputs": [],
   "source": [
    "# Create a new data set with all content that we need\n",
    "data = pd.DataFrame(columns=['ds','confirm'])\n",
    "date = list(dt.columns[11:])\n",
    "date = list(pd.to_datetime(date))"
   ]
  },
  {
   "cell_type": "code",
   "execution_count": 7,
   "metadata": {},
   "outputs": [
    {
     "data": {
      "text/html": [
       "<div>\n",
       "<style scoped>\n",
       "    .dataframe tbody tr th:only-of-type {\n",
       "        vertical-align: middle;\n",
       "    }\n",
       "\n",
       "    .dataframe tbody tr th {\n",
       "        vertical-align: top;\n",
       "    }\n",
       "\n",
       "    .dataframe thead th {\n",
       "        text-align: right;\n",
       "    }\n",
       "</style>\n",
       "<table border=\"1\" class=\"dataframe\">\n",
       "  <thead>\n",
       "    <tr style=\"text-align: right;\">\n",
       "      <th></th>\n",
       "      <th>confirm</th>\n",
       "    </tr>\n",
       "    <tr>\n",
       "      <th>ds</th>\n",
       "      <th></th>\n",
       "    </tr>\n",
       "  </thead>\n",
       "  <tbody>\n",
       "    <tr>\n",
       "      <th>2020-01-22</th>\n",
       "      <td>0.001</td>\n",
       "    </tr>\n",
       "    <tr>\n",
       "      <th>2020-01-23</th>\n",
       "      <td>0.001</td>\n",
       "    </tr>\n",
       "    <tr>\n",
       "      <th>2020-01-24</th>\n",
       "      <td>0.002</td>\n",
       "    </tr>\n",
       "  </tbody>\n",
       "</table>\n",
       "</div>"
      ],
      "text/plain": [
       "            confirm\n",
       "ds                 \n",
       "2020-01-22    0.001\n",
       "2020-01-23    0.001\n",
       "2020-01-24    0.002"
      ]
     },
     "execution_count": 7,
     "metadata": {},
     "output_type": "execute_result"
    }
   ],
   "source": [
    "# Check whether they have equal length\n",
    "len(date) == len(d)\n",
    "# Take a look at the data set\n",
    "data['ds'] = date\n",
    "data['confirm'] = d\n",
    "data = data.set_index('ds')\n",
    "data['confirm'] = data['confirm']/1000\n",
    "data.head(3)"
   ]
  },
  {
   "cell_type": "code",
   "execution_count": 8,
   "metadata": {},
   "outputs": [],
   "source": [
    "data = data.diff()\n",
    "data = data.loc['2020-01-23':'2020-11-18',] # set start as 23rd because of diff"
   ]
  },
  {
   "cell_type": "code",
   "execution_count": 9,
   "metadata": {},
   "outputs": [],
   "source": [
    "data.to_csv('data/covid19_confirmed_US_YZ.csv')"
   ]
  },
  {
   "cell_type": "markdown",
   "metadata": {},
   "source": [
    "## 3. Time-series Models\n",
    "### ARMA MODEL"
   ]
  },
  {
   "cell_type": "code",
   "execution_count": 10,
   "metadata": {
    "scrolled": true
   },
   "outputs": [],
   "source": [
    "#pip install statsmodels"
   ]
  },
  {
   "cell_type": "code",
   "execution_count": 11,
   "metadata": {},
   "outputs": [],
   "source": [
    "#pip install pmdarima"
   ]
  },
  {
   "cell_type": "code",
   "execution_count": 12,
   "metadata": {},
   "outputs": [],
   "source": [
    "#pip install sklearn"
   ]
  },
  {
   "cell_type": "code",
   "execution_count": 13,
   "metadata": {},
   "outputs": [],
   "source": [
    "import pmdarima as pm\n",
    "from statsmodels.tsa.seasonal import seasonal_decompose\n",
    "from sklearn.model_selection import TimeSeriesSplit\n",
    "from statsmodels.tsa.statespace.sarimax import SARIMAX\n",
    "from sklearn.metrics import mean_squared_error, mean_absolute_error"
   ]
  },
  {
   "cell_type": "code",
   "execution_count": 14,
   "metadata": {},
   "outputs": [],
   "source": [
    "# set train and test data set\n",
    "startdate = '2020-10-18'\n",
    "train = data.loc[data.index < pd.to_datetime(startdate)]\n",
    "test  = data.loc[data.index >= pd.to_datetime(startdate)]"
   ]
  },
  {
   "cell_type": "code",
   "execution_count": 15,
   "metadata": {
    "scrolled": false
   },
   "outputs": [
    {
     "name": "stdout",
     "output_type": "stream",
     "text": [
      "Performing stepwise search to minimize aic\n",
      " ARIMA(2,1,2)(0,0,0)[0] intercept   : AIC=inf, Time=0.37 sec\n",
      " ARIMA(0,1,0)(0,0,0)[0] intercept   : AIC=1595.975, Time=0.01 sec\n",
      " ARIMA(1,1,0)(0,0,0)[0] intercept   : AIC=1597.970, Time=0.03 sec\n",
      " ARIMA(0,1,1)(0,0,0)[0] intercept   : AIC=1597.968, Time=0.04 sec\n",
      " ARIMA(0,1,0)(0,0,0)[0]             : AIC=1594.515, Time=0.01 sec\n",
      " ARIMA(1,1,1)(0,0,0)[0] intercept   : AIC=1583.237, Time=0.17 sec\n",
      " ARIMA(2,1,1)(0,0,0)[0] intercept   : AIC=1568.376, Time=0.10 sec\n",
      " ARIMA(2,1,0)(0,0,0)[0] intercept   : AIC=1595.001, Time=0.04 sec\n",
      " ARIMA(3,1,1)(0,0,0)[0] intercept   : AIC=1551.876, Time=0.11 sec\n",
      " ARIMA(3,1,0)(0,0,0)[0] intercept   : AIC=1578.658, Time=0.05 sec\n",
      " ARIMA(4,1,1)(0,0,0)[0] intercept   : AIC=1534.821, Time=0.16 sec\n",
      " ARIMA(4,1,0)(0,0,0)[0] intercept   : AIC=1548.798, Time=0.08 sec\n",
      " ARIMA(5,1,1)(0,0,0)[0] intercept   : AIC=1513.591, Time=0.19 sec\n",
      " ARIMA(5,1,0)(0,0,0)[0] intercept   : AIC=1511.705, Time=0.12 sec\n",
      " ARIMA(5,1,0)(0,0,0)[0]             : AIC=1514.834, Time=0.05 sec\n",
      "\n",
      "Best model:  ARIMA(5,1,0)(0,0,0)[0] intercept\n",
      "Total fit time: 1.561 seconds\n",
      "                               SARIMAX Results                                \n",
      "==============================================================================\n",
      "Dep. Variable:                      y   No. Observations:                  269\n",
      "Model:               SARIMAX(5, 1, 0)   Log Likelihood                -748.853\n",
      "Date:                Thu, 10 Dec 2020   AIC                           1511.705\n",
      "Time:                        14:42:40   BIC                           1536.842\n",
      "Sample:                             0   HQIC                          1521.801\n",
      "                                - 269                                         \n",
      "Covariance Type:                  opg                                         \n",
      "==============================================================================\n",
      "                 coef    std err          z      P>|z|      [0.025      0.975]\n",
      "------------------------------------------------------------------------------\n",
      "intercept      0.5582      0.246      2.272      0.023       0.077       1.040\n",
      "ar.L1         -0.2415      0.042     -5.694      0.000      -0.325      -0.158\n",
      "ar.L2         -0.2829      0.049     -5.829      0.000      -0.378      -0.188\n",
      "ar.L3         -0.3408      0.041     -8.232      0.000      -0.422      -0.260\n",
      "ar.L4         -0.3866      0.053     -7.339      0.000      -0.490      -0.283\n",
      "ar.L5         -0.3747      0.042     -8.846      0.000      -0.458      -0.292\n",
      "sigma2        15.5630      1.045     14.889      0.000      13.514      17.612\n",
      "===================================================================================\n",
      "Ljung-Box (Q):                      217.27   Jarque-Bera (JB):                25.92\n",
      "Prob(Q):                              0.00   Prob(JB):                         0.00\n",
      "Heteroskedasticity (H):               6.57   Skew:                             0.15\n",
      "Prob(H) (two-sided):                  0.00   Kurtosis:                         4.50\n",
      "===================================================================================\n",
      "\n",
      "Warnings:\n",
      "[1] Covariance matrix calculated using the outer product of gradients (complex-step).\n"
     ]
    }
   ],
   "source": [
    "model = pm.auto_arima(train, start_p=2, start_q=2,\n",
    "                      test='adf',        # use adftest to find optimal 'd'\n",
    "                      max_p=5, max_q=5,  # maximum p and q\n",
    "                      m=1,               # frequency of series\n",
    "                      d=None,            # automatically find 'd'\n",
    "                      seasonal=False,    # Without Seasonality\n",
    "                      start_P=0,\n",
    "                      trace=True,\n",
    "                      error_action='ignore',\n",
    "                      suppress_warnings=True,\n",
    "                      stepwise=True)\n",
    "print(model.summary())\n",
    "\n",
    "# We find optimal model is ARIMA(5,1,5)"
   ]
  },
  {
   "cell_type": "code",
   "execution_count": 16,
   "metadata": {},
   "outputs": [],
   "source": [
    "warnings.filterwarnings('ignore')\n",
    "model = SARIMAX(train, order = (5,1,5))"
   ]
  },
  {
   "cell_type": "code",
   "execution_count": 17,
   "metadata": {},
   "outputs": [],
   "source": [
    "result = model.fit(disp=True)"
   ]
  },
  {
   "cell_type": "code",
   "execution_count": 18,
   "metadata": {
    "scrolled": true
   },
   "outputs": [
    {
     "data": {
      "image/png": "[encoded data removed]",
      "text/plain": [
       "<Figure size 720x360 with 1 Axes>"
      ]
     },
     "metadata": {
      "needs_background": "light"
     },
     "output_type": "display_data"
    }
   ],
   "source": [
    "fig, ax = plt.subplots(figsize=(10,5))\n",
    "sarimax_pred = result.predict(\n",
    "    start = startdate, \n",
    "    end = '2020-11-18', \n",
    "    dynamic = False)\n",
    "ax.plot(data, label = 'True Observation')\n",
    "ax.plot(sarimax_pred, label = 'ARIMA(5,1,5) Prediction')\n",
    "\n",
    "ax.set_xlabel('Timeline')\n",
    "ax.set_ylabel('Number of Cases (in thousand)')\n",
    "ax.set_title('Increase in Daily New Confirmed Cases')\n",
    "\n",
    "ax.spines['top'].set_visible(False)\n",
    "ax.spines['right'].set_visible(False)\n",
    "\n",
    "ax.legend(frameon=False)\n",
    "\n",
    "fig.autofmt_xdate()\n",
    "\n",
    "plt.savefig('SARIMAX prediction.svg',bbox_inches = 'tight', transparent = False)"
   ]
  },
  {
   "cell_type": "code",
   "execution_count": 19,
   "metadata": {},
   "outputs": [
    {
     "name": "stdout",
     "output_type": "stream",
     "text": [
      "SARIMAX MSE =  3921.003594974535\n"
     ]
    }
   ],
   "source": [
    "print('SARIMAX MSE = ', mean_squared_error(sarimax_pred, test))"
   ]
  },
  {
   "cell_type": "code",
   "execution_count": 20,
   "metadata": {},
   "outputs": [
    {
     "name": "stdout",
     "output_type": "stream",
     "text": [
      "SARIMAX RMSE =  62.61791752345758\n"
     ]
    }
   ],
   "source": [
    "print('SARIMAX RMSE = ', m.sqrt(mean_squared_error(sarimax_pred, test)))"
   ]
  },
  {
   "cell_type": "code",
   "execution_count": 21,
   "metadata": {},
   "outputs": [
    {
     "name": "stdout",
     "output_type": "stream",
     "text": [
      "SARIMAX MAE =  50.925985088530894\n"
     ]
    }
   ],
   "source": [
    "print('SARIMAX MAE = ', mean_absolute_error(sarimax_pred, test))"
   ]
  },
  {
   "cell_type": "markdown",
   "metadata": {},
   "source": [
    "### Facebook Prophet\n",
    "According to intro of facebook open source which can be accesss from https://facebook.github.io/prophet/, \"Prophet works best with time series that have strong seasonal effects and several seasons of historical data. It is robust to missing data and shifts in the trend, and typically handles outliers well.\"\n",
    "\n",
    "**Reference**\n",
    "Taylor SJ, Letham B. 2017. Forecasting at scale. PeerJ Preprints 5:e3190v2 https://doi.org/10.7287/peerj.preprints.3190v2"
   ]
  },
  {
   "cell_type": "code",
   "execution_count": 22,
   "metadata": {},
   "outputs": [
    {
     "name": "stdout",
     "output_type": "stream",
     "text": [
      "Requirement already satisfied: Pystan in /opt/anaconda3/lib/python3.8/site-packages (2.19.1.1)\n",
      "Requirement already satisfied: numpy>=1.7 in /opt/anaconda3/lib/python3.8/site-packages (from Pystan) (1.18.5)\n",
      "Requirement already satisfied: Cython!=0.25.1,>=0.22 in /opt/anaconda3/lib/python3.8/site-packages (from Pystan) (0.29.17)\n",
      "Note: you may need to restart the kernel to use updated packages.\n"
     ]
    }
   ],
   "source": [
    "pip install Pystan"
   ]
  },
  {
   "cell_type": "code",
   "execution_count": 23,
   "metadata": {},
   "outputs": [
    {
     "name": "stdout",
     "output_type": "stream",
     "text": [
      "Requirement already satisfied: fbprophet in /opt/anaconda3/lib/python3.8/site-packages (0.7.1)\n",
      "Requirement already satisfied: Cython>=0.22 in /opt/anaconda3/lib/python3.8/site-packages (from fbprophet) (0.29.17)\n",
      "Requirement already satisfied: cmdstanpy==0.9.5 in /opt/anaconda3/lib/python3.8/site-packages (from fbprophet) (0.9.5)\n",
      "Requirement already satisfied: pystan>=2.14 in /opt/anaconda3/lib/python3.8/site-packages (from fbprophet) (2.19.1.1)\n",
      "Requirement already satisfied: numpy>=1.15.4 in /opt/anaconda3/lib/python3.8/site-packages (from fbprophet) (1.18.5)\n",
      "Requirement already satisfied: pandas>=1.0.4 in /opt/anaconda3/lib/python3.8/site-packages (from fbprophet) (1.0.5)\n",
      "Requirement already satisfied: matplotlib>=2.0.0 in /opt/anaconda3/lib/python3.8/site-packages (from fbprophet) (3.2.2)\n",
      "Requirement already satisfied: LunarCalendar>=0.0.9 in /opt/anaconda3/lib/python3.8/site-packages (from fbprophet) (0.0.9)\n",
      "Requirement already satisfied: convertdate>=2.1.2 in /opt/anaconda3/lib/python3.8/site-packages (from fbprophet) (2.2.2)\n",
      "Requirement already satisfied: holidays>=0.10.2 in /opt/anaconda3/lib/python3.8/site-packages (from fbprophet) (0.10.3)\n",
      "Requirement already satisfied: setuptools-git>=1.2 in /opt/anaconda3/lib/python3.8/site-packages (from fbprophet) (1.2)\n",
      "Requirement already satisfied: python-dateutil>=2.8.0 in /opt/anaconda3/lib/python3.8/site-packages (from fbprophet) (2.8.1)\n",
      "Requirement already satisfied: tqdm>=4.36.1 in /opt/anaconda3/lib/python3.8/site-packages (from fbprophet) (4.47.0)\n",
      "Requirement already satisfied: pytz>=2017.2 in /opt/anaconda3/lib/python3.8/site-packages (from pandas>=1.0.4->fbprophet) (2020.1)\n",
      "Requirement already satisfied: pyparsing!=2.0.4,!=2.1.2,!=2.1.6,>=2.0.1 in /opt/anaconda3/lib/python3.8/site-packages (from matplotlib>=2.0.0->fbprophet) (2.4.7)\n",
      "Requirement already satisfied: kiwisolver>=1.0.1 in /opt/anaconda3/lib/python3.8/site-packages (from matplotlib>=2.0.0->fbprophet) (1.2.0)\n",
      "Requirement already satisfied: cycler>=0.10 in /opt/anaconda3/lib/python3.8/site-packages (from matplotlib>=2.0.0->fbprophet) (0.10.0)\n",
      "Requirement already satisfied: ephem>=3.7.5.3 in /opt/anaconda3/lib/python3.8/site-packages (from LunarCalendar>=0.0.9->fbprophet) (3.7.7.1)\n",
      "Requirement already satisfied: pymeeus<=1,>=0.3.6 in /opt/anaconda3/lib/python3.8/site-packages (from convertdate>=2.1.2->fbprophet) (0.3.7)\n",
      "Requirement already satisfied: six in /opt/anaconda3/lib/python3.8/site-packages (from holidays>=0.10.2->fbprophet) (1.15.0)\n",
      "Requirement already satisfied: korean-lunar-calendar in /opt/anaconda3/lib/python3.8/site-packages (from holidays>=0.10.2->fbprophet) (0.2.1)\n",
      "Note: you may need to restart the kernel to use updated packages.\n"
     ]
    }
   ],
   "source": [
    "pip install fbprophet"
   ]
  },
  {
   "cell_type": "code",
   "execution_count": 24,
   "metadata": {},
   "outputs": [
    {
     "name": "stderr",
     "output_type": "stream",
     "text": [
      "Importing plotly failed. Interactive plots will not work.\n"
     ]
    }
   ],
   "source": [
    "from fbprophet import Prophet\n",
    "from fbprophet.plot import plot_plotly, add_changepoints_to_plot"
   ]
  },
  {
   "cell_type": "code",
   "execution_count": 25,
   "metadata": {},
   "outputs": [],
   "source": [
    "train.reset_index(inplace=True)\n",
    "test.reset_index(inplace=True)"
   ]
  },
  {
   "cell_type": "code",
   "execution_count": 26,
   "metadata": {},
   "outputs": [],
   "source": [
    "train.rename(columns={'confirm':'y'}, inplace = True)\n",
    "test.rename(columns={'confirm':'y'}, inplace = True)"
   ]
  },
  {
   "cell_type": "code",
   "execution_count": 27,
   "metadata": {
    "scrolled": true
   },
   "outputs": [
    {
     "name": "stderr",
     "output_type": "stream",
     "text": [
      "INFO:fbprophet:Disabling yearly seasonality. Run prophet with yearly_seasonality=True to override this.\n",
      "INFO:fbprophet:Disabling daily seasonality. Run prophet with daily_seasonality=True to override this.\n"
     ]
    },
    {
     "data": {
      "text/plain": [
       "<fbprophet.forecaster.Prophet at 0x7fba28bf9a00>"
      ]
     },
     "execution_count": 27,
     "metadata": {},
     "output_type": "execute_result"
    }
   ],
   "source": [
    "m = Prophet()\n",
    "m.fit(train)\n",
    "  # Might consider weekly cycle here"
   ]
  },
  {
   "cell_type": "code",
   "execution_count": 28,
   "metadata": {},
   "outputs": [],
   "source": [
    "prediction = m.make_future_dataframe(periods=data.shape[0]-train.shape[0])\n",
    "prophet_prediction = m.predict(prediction)"
   ]
  },
  {
   "cell_type": "code",
   "execution_count": 29,
   "metadata": {},
   "outputs": [
    {
     "data": {
      "text/html": [
       "<div>\n",
       "<style scoped>\n",
       "    .dataframe tbody tr th:only-of-type {\n",
       "        vertical-align: middle;\n",
       "    }\n",
       "\n",
       "    .dataframe tbody tr th {\n",
       "        vertical-align: top;\n",
       "    }\n",
       "\n",
       "    .dataframe thead th {\n",
       "        text-align: right;\n",
       "    }\n",
       "</style>\n",
       "<table border=\"1\" class=\"dataframe\">\n",
       "  <thead>\n",
       "    <tr style=\"text-align: right;\">\n",
       "      <th></th>\n",
       "      <th>ds</th>\n",
       "      <th>trend</th>\n",
       "      <th>yhat_lower</th>\n",
       "      <th>yhat_upper</th>\n",
       "      <th>trend_lower</th>\n",
       "      <th>trend_upper</th>\n",
       "      <th>additive_terms</th>\n",
       "      <th>additive_terms_lower</th>\n",
       "      <th>additive_terms_upper</th>\n",
       "      <th>weekly</th>\n",
       "      <th>weekly_lower</th>\n",
       "      <th>weekly_upper</th>\n",
       "      <th>multiplicative_terms</th>\n",
       "      <th>multiplicative_terms_lower</th>\n",
       "      <th>multiplicative_terms_upper</th>\n",
       "      <th>yhat</th>\n",
       "    </tr>\n",
       "  </thead>\n",
       "  <tbody>\n",
       "    <tr>\n",
       "      <th>56</th>\n",
       "      <td>2020-03-19</td>\n",
       "      <td>11.223022</td>\n",
       "      <td>2.713603</td>\n",
       "      <td>26.239445</td>\n",
       "      <td>11.223022</td>\n",
       "      <td>11.223022</td>\n",
       "      <td>2.834656</td>\n",
       "      <td>2.834656</td>\n",
       "      <td>2.834656</td>\n",
       "      <td>2.834656</td>\n",
       "      <td>2.834656</td>\n",
       "      <td>2.834656</td>\n",
       "      <td>0.0</td>\n",
       "      <td>0.0</td>\n",
       "      <td>0.0</td>\n",
       "      <td>14.057678</td>\n",
       "    </tr>\n",
       "    <tr>\n",
       "      <th>86</th>\n",
       "      <td>2020-04-18</td>\n",
       "      <td>20.303496</td>\n",
       "      <td>8.347832</td>\n",
       "      <td>34.022339</td>\n",
       "      <td>20.303496</td>\n",
       "      <td>20.303496</td>\n",
       "      <td>0.696616</td>\n",
       "      <td>0.696616</td>\n",
       "      <td>0.696616</td>\n",
       "      <td>0.696616</td>\n",
       "      <td>0.696616</td>\n",
       "      <td>0.696616</td>\n",
       "      <td>0.0</td>\n",
       "      <td>0.0</td>\n",
       "      <td>0.0</td>\n",
       "      <td>21.000112</td>\n",
       "    </tr>\n",
       "    <tr>\n",
       "      <th>235</th>\n",
       "      <td>2020-09-14</td>\n",
       "      <td>47.571071</td>\n",
       "      <td>31.052725</td>\n",
       "      <td>55.594476</td>\n",
       "      <td>47.571071</td>\n",
       "      <td>47.571071</td>\n",
       "      <td>-3.856063</td>\n",
       "      <td>-3.856063</td>\n",
       "      <td>-3.856063</td>\n",
       "      <td>-3.856063</td>\n",
       "      <td>-3.856063</td>\n",
       "      <td>-3.856063</td>\n",
       "      <td>0.0</td>\n",
       "      <td>0.0</td>\n",
       "      <td>0.0</td>\n",
       "      <td>43.715008</td>\n",
       "    </tr>\n",
       "    <tr>\n",
       "      <th>237</th>\n",
       "      <td>2020-09-16</td>\n",
       "      <td>47.531244</td>\n",
       "      <td>35.267645</td>\n",
       "      <td>59.536065</td>\n",
       "      <td>47.531244</td>\n",
       "      <td>47.531244</td>\n",
       "      <td>0.513710</td>\n",
       "      <td>0.513710</td>\n",
       "      <td>0.513710</td>\n",
       "      <td>0.513710</td>\n",
       "      <td>0.513710</td>\n",
       "      <td>0.513710</td>\n",
       "      <td>0.0</td>\n",
       "      <td>0.0</td>\n",
       "      <td>0.0</td>\n",
       "      <td>48.044954</td>\n",
       "    </tr>\n",
       "    <tr>\n",
       "      <th>283</th>\n",
       "      <td>2020-11-01</td>\n",
       "      <td>46.615223</td>\n",
       "      <td>30.268147</td>\n",
       "      <td>54.928895</td>\n",
       "      <td>46.450781</td>\n",
       "      <td>46.810426</td>\n",
       "      <td>-3.737084</td>\n",
       "      <td>-3.737084</td>\n",
       "      <td>-3.737084</td>\n",
       "      <td>-3.737084</td>\n",
       "      <td>-3.737084</td>\n",
       "      <td>-3.737084</td>\n",
       "      <td>0.0</td>\n",
       "      <td>0.0</td>\n",
       "      <td>0.0</td>\n",
       "      <td>42.878139</td>\n",
       "    </tr>\n",
       "  </tbody>\n",
       "</table>\n",
       "</div>"
      ],
      "text/plain": [
       "            ds      trend  yhat_lower  yhat_upper  trend_lower  trend_upper  \\\n",
       "56  2020-03-19  11.223022    2.713603   26.239445    11.223022    11.223022   \n",
       "86  2020-04-18  20.303496    8.347832   34.022339    20.303496    20.303496   \n",
       "235 2020-09-14  47.571071   31.052725   55.594476    47.571071    47.571071   \n",
       "237 2020-09-16  47.531244   35.267645   59.536065    47.531244    47.531244   \n",
       "283 2020-11-01  46.615223   30.268147   54.928895    46.450781    46.810426   \n",
       "\n",
       "     additive_terms  additive_terms_lower  additive_terms_upper    weekly  \\\n",
       "56         2.834656              2.834656              2.834656  2.834656   \n",
       "86         0.696616              0.696616              0.696616  0.696616   \n",
       "235       -3.856063             -3.856063             -3.856063 -3.856063   \n",
       "237        0.513710              0.513710              0.513710  0.513710   \n",
       "283       -3.737084             -3.737084             -3.737084 -3.737084   \n",
       "\n",
       "     weekly_lower  weekly_upper  multiplicative_terms  \\\n",
       "56       2.834656      2.834656                   0.0   \n",
       "86       0.696616      0.696616                   0.0   \n",
       "235     -3.856063     -3.856063                   0.0   \n",
       "237      0.513710      0.513710                   0.0   \n",
       "283     -3.737084     -3.737084                   0.0   \n",
       "\n",
       "     multiplicative_terms_lower  multiplicative_terms_upper       yhat  \n",
       "56                          0.0                         0.0  14.057678  \n",
       "86                          0.0                         0.0  21.000112  \n",
       "235                         0.0                         0.0  43.715008  \n",
       "237                         0.0                         0.0  48.044954  \n",
       "283                         0.0                         0.0  42.878139  "
      ]
     },
     "execution_count": 29,
     "metadata": {},
     "output_type": "execute_result"
    }
   ],
   "source": [
    "prophet_prediction.sample(5)"
   ]
  },
  {
   "cell_type": "code",
   "execution_count": 30,
   "metadata": {},
   "outputs": [
    {
     "name": "stdout",
     "output_type": "stream",
     "text": [
      "Prophet MAE =  61.21309033842178\n"
     ]
    }
   ],
   "source": [
    "prophet_prediction = prophet_prediction.set_index('ds')\n",
    "prophet_fit = prophet_prediction.yhat.loc[prophet_prediction.index>=startdate]\n",
    "test.set_index('ds',inplace=True)\n",
    "print('Prophet MAE = ', mean_absolute_error(prophet_fit, test))"
   ]
  },
  {
   "cell_type": "code",
   "execution_count": 31,
   "metadata": {
    "scrolled": true
   },
   "outputs": [
    {
     "name": "stdout",
     "output_type": "stream",
     "text": [
      "Prophet MSE =  5110.885062996438\n"
     ]
    }
   ],
   "source": [
    "print('Prophet MSE = ', mean_squared_error(prophet_fit, test))"
   ]
  },
  {
   "cell_type": "code",
   "execution_count": 32,
   "metadata": {},
   "outputs": [
    {
     "name": "stdout",
     "output_type": "stream",
     "text": [
      "Prophet RMSE =  71.49045434879008\n"
     ]
    }
   ],
   "source": [
    "import math as m\n",
    "print('Prophet RMSE = ', m.sqrt(mean_squared_error(prophet_fit, test)))"
   ]
  },
  {
   "cell_type": "code",
   "execution_count": 33,
   "metadata": {
    "scrolled": true
   },
   "outputs": [
    {
     "data": {
      "image/png": "[encoded data removed]",
      "text/plain": [
       "<Figure size 720x360 with 1 Axes>"
      ]
     },
     "metadata": {
      "needs_background": "light"
     },
     "output_type": "display_data"
    }
   ],
   "source": [
    "fig, ax = plt.subplots(figsize=(10,5))\n",
    "ax.plot(data, label='Observation')\n",
    "ax.plot(prophet_fit, label='Prophet')\n",
    "\n",
    "ax.set_xlabel('Timeline')\n",
    "\n",
    "ax.set_ylabel('Number of Cases (in thousand)')\n",
    "ax.set_title('Increment of New Confirmed Cases ')\n",
    "\n",
    "ax.spines['top'].set_visible(False)\n",
    "ax.spines['right'].set_visible(False)\n",
    "ax.legend(frameon=False)\n",
    "\n",
    "fig.autofmt_xdate()\n",
    "plt.savefig('Prophet Prediction.svg', bbox_inches = 'tight', transparent = False)\n"
   ]
  },
  {
   "cell_type": "markdown",
   "metadata": {},
   "source": [
    "**Next, we switch to logistic model and include seasonality**"
   ]
  },
  {
   "cell_type": "code",
   "execution_count": 34,
   "metadata": {},
   "outputs": [
    {
     "name": "stderr",
     "output_type": "stream",
     "text": [
      "INFO:fbprophet:Disabling yearly seasonality. Run prophet with yearly_seasonality=True to override this.\n",
      "INFO:fbprophet:Disabling daily seasonality. Run prophet with daily_seasonality=True to override this.\n"
     ]
    },
    {
     "data": {
      "text/plain": [
       "<fbprophet.forecaster.Prophet at 0x7fba2e5ae100>"
      ]
     },
     "execution_count": 34,
     "metadata": {},
     "output_type": "execute_result"
    }
   ],
   "source": [
    "train['cap'] = data['confirm'].max()\n",
    "n = Prophet(growth='logistic',\n",
    "            weekly_seasonality=True,\n",
    "            daily_seasonality='auto')\n",
    "n.fit(train)"
   ]
  },
  {
   "cell_type": "code",
   "execution_count": 35,
   "metadata": {},
   "outputs": [],
   "source": [
    "prediction_n = n.make_future_dataframe(periods=data.shape[0]-train.shape[0])\n",
    "prediction_n['cap'] = data['confirm'].max()\n",
    "prophet_prediction_n = n.predict(prediction_n)"
   ]
  },
  {
   "cell_type": "code",
   "execution_count": 36,
   "metadata": {},
   "outputs": [
    {
     "name": "stdout",
     "output_type": "stream",
     "text": [
      "Prophet MAE =  50.336370655465494\n",
      "Prophet MSE =  3774.2044081194185\n",
      "Prophet RMSE =  61.43455386115715\n"
     ]
    }
   ],
   "source": [
    "prophet_prediction_n = prophet_prediction_n.set_index('ds')\n",
    "prophet_fit_n = prophet_prediction_n.yhat.loc[prophet_prediction_n.index>=startdate]\n",
    "print('Prophet MAE = ', mean_absolute_error(prophet_fit_n, test))\n",
    "print('Prophet MSE = ', mean_squared_error(prophet_fit_n, test))\n",
    "print('Prophet RMSE = ', m.sqrt(mean_squared_error(prophet_fit_n, test)))"
   ]
  },
  {
   "cell_type": "code",
   "execution_count": 37,
   "metadata": {
    "scrolled": true
   },
   "outputs": [
    {
     "data": {
      "image/png": "[encoded data removed]",
      "text/plain": [
       "<Figure size 720x360 with 1 Axes>"
      ]
     },
     "metadata": {
      "needs_background": "light"
     },
     "output_type": "display_data"
    }
   ],
   "source": [
    "fig, ax = plt.subplots(figsize=(10,5))\n",
    "ax.plot(data, label='Observation')\n",
    "ax.plot(prophet_fit_n, label='Prophet')\n",
    "\n",
    "ax.set_xlabel('Timeline')\n",
    "\n",
    "ax.set_ylabel('Number of Cases (in thousand)')\n",
    "ax.set_title('Increment of New Confirmed Cases ')\n",
    "\n",
    "ax.spines['top'].set_visible(False)\n",
    "ax.spines['right'].set_visible(False)\n",
    "\n",
    "ax.legend(frameon=False)\n",
    "\n",
    "fig.autofmt_xdate()\n",
    "\n",
    "plt.savefig('Prophet Prediction with Logistic and Seasonality.svg', \n",
    "            bbox_inches = 'tight', transparent = False)"
   ]
  },
  {
   "cell_type": "code",
   "execution_count": 38,
   "metadata": {},
   "outputs": [
    {
     "name": "stdout",
     "output_type": "stream",
     "text": [
      "The max value of daily increase in new confirmed cases is 177.\n",
      "The max value of predicted daily increase in new confirmed cases is 63.\n"
     ]
    }
   ],
   "source": [
    "print('The max value of daily increase in new confirmed cases is {:.0f}.'.format(data.max()['confirm']))\n",
    "print('The max value of predicted daily increase in new confirmed cases is {:.0f}.'.format(prophet_fit_n.max()))"
   ]
  },
  {
   "cell_type": "markdown",
   "metadata": {},
   "source": [
    "The Prophet Model fits better with weekly seasonality effect and logistic fitting model."
   ]
  },
  {
   "cell_type": "markdown",
   "metadata": {},
   "source": [
    "### Exact Forecast\n",
    "Predict for 20 days."
   ]
  },
  {
   "cell_type": "code",
   "execution_count": 39,
   "metadata": {
    "scrolled": true
   },
   "outputs": [
    {
     "name": "stderr",
     "output_type": "stream",
     "text": [
      "INFO:fbprophet:Disabling yearly seasonality. Run prophet with yearly_seasonality=True to override this.\n",
      "INFO:fbprophet:Disabling daily seasonality. Run prophet with daily_seasonality=True to override this.\n"
     ]
    },
    {
     "data": {
      "text/plain": [
       "<fbprophet.forecaster.Prophet at 0x7fba2e5ae700>"
      ]
     },
     "execution_count": 39,
     "metadata": {},
     "output_type": "execute_result"
    }
   ],
   "source": [
    "data.reset_index(inplace=True)\n",
    "data.rename(columns={'confirm':'y'}, inplace = True)\n",
    "data['cap'] = data['y'].max()\n",
    "n = Prophet(growth='logistic',\n",
    "            weekly_seasonality=True,\n",
    "            daily_seasonality='auto')\n",
    "n.fit(data) "
   ]
  },
  {
   "cell_type": "code",
   "execution_count": 40,
   "metadata": {
    "scrolled": true
   },
   "outputs": [],
   "source": [
    "forecast = n.make_future_dataframe(periods=20)\n",
    "forecast['cap'] = data['y'].max()\n",
    "prophet_forecast = n.predict(forecast)\n",
    "enddate = '2020-11-19'\n",
    "prophet_forecast.set_index('ds',inplace=True)\n",
    "data.set_index('ds',inplace=True)\n",
    "prophet_fit_forecast = prophet_forecast.yhat.loc[prophet_forecast.index>=enddate]"
   ]
  },
  {
   "cell_type": "code",
   "execution_count": 41,
   "metadata": {
    "scrolled": false
   },
   "outputs": [
    {
     "data": {
      "image/png": "[encoded data removed]",
      "text/plain": [
       "<Figure size 720x360 with 1 Axes>"
      ]
     },
     "metadata": {
      "needs_background": "light"
     },
     "output_type": "display_data"
    }
   ],
   "source": [
    "fig, ax = plt.subplots(figsize=(10,5))\n",
    "ax.plot(data['y'], label='Observation')\n",
    "ax.plot(prophet_fit_forecast, label='Prophet')\n",
    "\n",
    "ax.set_xlabel('Timeline')\n",
    "ax.set_ylabel('Number of Cases (in thousand)')\n",
    "ax.set_title('Increment of New Confirmed Cases ')\n",
    "\n",
    "ax.spines['top'].set_visible(False)\n",
    "ax.spines['right'].set_visible(False)\n",
    "\n",
    "ax.legend(frameon=False)\n",
    "\n",
    "fig.autofmt_xdate()\n",
    "\n",
    "plt.savefig('20-periods Forecast with Logistic and Seasonality.svg', \n",
    "            bbox_inches = 'tight', transparent = False)"
   ]
  },
  {
   "cell_type": "code",
   "execution_count": 42,
   "metadata": {},
   "outputs": [
    {
     "name": "stdout",
     "output_type": "stream",
     "text": [
      "The max value of daily increase in new confirmed cases is 177.\n",
      "The max value of predicted daily increase in new confirmed cases is 107.\n"
     ]
    }
   ],
   "source": [
    "print('The max value of daily increase in new confirmed cases is {:.0f}.'.format(data.max()['y']))\n",
    "print('The max value of predicted daily increase in new confirmed cases is {:.0f}.'.format(prophet_fit_forecast.max()))"
   ]
  },
  {
   "cell_type": "markdown",
   "metadata": {},
   "source": [
    "### More: Transfer Daily Data into Weekly Data\n",
    "To eliminate up and downs generated from missing data on weekend and variations according with test-centers' working hours."
   ]
  },
  {
   "cell_type": "code",
   "execution_count": 43,
   "metadata": {},
   "outputs": [
    {
     "data": {
      "text/html": [
       "<div>\n",
       "<style scoped>\n",
       "    .dataframe tbody tr th:only-of-type {\n",
       "        vertical-align: middle;\n",
       "    }\n",
       "\n",
       "    .dataframe tbody tr th {\n",
       "        vertical-align: top;\n",
       "    }\n",
       "\n",
       "    .dataframe thead th {\n",
       "        text-align: right;\n",
       "    }\n",
       "</style>\n",
       "<table border=\"1\" class=\"dataframe\">\n",
       "  <thead>\n",
       "    <tr style=\"text-align: right;\">\n",
       "      <th></th>\n",
       "      <th>confirm</th>\n",
       "    </tr>\n",
       "    <tr>\n",
       "      <th>ds</th>\n",
       "      <th></th>\n",
       "    </tr>\n",
       "  </thead>\n",
       "  <tbody>\n",
       "    <tr>\n",
       "      <th>2020-01-26</th>\n",
       "      <td>0.011</td>\n",
       "    </tr>\n",
       "    <tr>\n",
       "      <th>2020-02-02</th>\n",
       "      <td>0.046</td>\n",
       "    </tr>\n",
       "    <tr>\n",
       "      <th>2020-02-09</th>\n",
       "      <td>0.081</td>\n",
       "    </tr>\n",
       "    <tr>\n",
       "      <th>2020-02-16</th>\n",
       "      <td>0.094</td>\n",
       "    </tr>\n",
       "    <tr>\n",
       "      <th>2020-02-23</th>\n",
       "      <td>0.104</td>\n",
       "    </tr>\n",
       "  </tbody>\n",
       "</table>\n",
       "</div>"
      ],
      "text/plain": [
       "            confirm\n",
       "ds                 \n",
       "2020-01-26    0.011\n",
       "2020-02-02    0.046\n",
       "2020-02-09    0.081\n",
       "2020-02-16    0.094\n",
       "2020-02-23    0.104"
      ]
     },
     "execution_count": 43,
     "metadata": {},
     "output_type": "execute_result"
    }
   ],
   "source": [
    "# Create a new data set with all content that we need\n",
    "data_new = pd.DataFrame(columns=['ds','confirm'])\n",
    "date = list(dt.columns[11:])\n",
    "date = list(pd.to_datetime(date))\n",
    "# Check whether they have equal length\n",
    "len(date) == len(d)\n",
    "# Take a look at the data set\n",
    "data_new['ds'] = date\n",
    "data_new['confirm'] = d\n",
    "data_new.set_index('ds',inplace=True)\n",
    "data_new = data_new.resample('w').sum()\n",
    "data_new['confirm']=data_new['confirm']/1000\n",
    "data_new.head(5)"
   ]
  },
  {
   "cell_type": "code",
   "execution_count": 44,
   "metadata": {
    "scrolled": true
   },
   "outputs": [],
   "source": [
    "train = data_new.loc[data_new.index < pd.to_datetime(startdate)]\n",
    "test  = data_new.loc[data_new.index >= pd.to_datetime(startdate)]"
   ]
  },
  {
   "cell_type": "code",
   "execution_count": 45,
   "metadata": {},
   "outputs": [
    {
     "name": "stderr",
     "output_type": "stream",
     "text": [
      "INFO:fbprophet:Disabling yearly seasonality. Run prophet with yearly_seasonality=True to override this.\n",
      "INFO:fbprophet:Disabling weekly seasonality. Run prophet with weekly_seasonality=True to override this.\n",
      "INFO:fbprophet:Disabling daily seasonality. Run prophet with daily_seasonality=True to override this.\n"
     ]
    },
    {
     "data": {
      "text/plain": [
       "<fbprophet.forecaster.Prophet at 0x7fba2c9853a0>"
      ]
     },
     "execution_count": 45,
     "metadata": {},
     "output_type": "execute_result"
    }
   ],
   "source": [
    "train['cap'] = data_new['confirm'].max()\n",
    "l = Prophet(growth='logistic',\n",
    "            weekly_seasonality='auto',\n",
    "            daily_seasonality='auto')\n",
    "train.reset_index(inplace=True)\n",
    "train = train.rename(columns={'confirm':'y'})\n",
    "l.fit(train)"
   ]
  },
  {
   "cell_type": "code",
   "execution_count": 46,
   "metadata": {},
   "outputs": [],
   "source": [
    "prediction_l = l.make_future_dataframe(periods=data_new.shape[0]-train.shape[0],freq=\"w\")\n",
    "prediction_l['cap'] = data_new['confirm'].max()\n",
    "prophet_prediction_l = l.predict(prediction_l)"
   ]
  },
  {
   "cell_type": "code",
   "execution_count": 47,
   "metadata": {},
   "outputs": [],
   "source": [
    "prophet_prediction_l.set_index('ds',inplace=True)"
   ]
  },
  {
   "cell_type": "code",
   "execution_count": 48,
   "metadata": {},
   "outputs": [
    {
     "data": {
      "text/html": [
       "<div>\n",
       "<style scoped>\n",
       "    .dataframe tbody tr th:only-of-type {\n",
       "        vertical-align: middle;\n",
       "    }\n",
       "\n",
       "    .dataframe tbody tr th {\n",
       "        vertical-align: top;\n",
       "    }\n",
       "\n",
       "    .dataframe thead th {\n",
       "        text-align: right;\n",
       "    }\n",
       "</style>\n",
       "<table border=\"1\" class=\"dataframe\">\n",
       "  <thead>\n",
       "    <tr style=\"text-align: right;\">\n",
       "      <th></th>\n",
       "      <th>trend</th>\n",
       "      <th>cap</th>\n",
       "      <th>yhat_lower</th>\n",
       "      <th>yhat_upper</th>\n",
       "      <th>trend_lower</th>\n",
       "      <th>trend_upper</th>\n",
       "      <th>additive_terms</th>\n",
       "      <th>additive_terms_lower</th>\n",
       "      <th>additive_terms_upper</th>\n",
       "      <th>multiplicative_terms</th>\n",
       "      <th>multiplicative_terms_lower</th>\n",
       "      <th>multiplicative_terms_upper</th>\n",
       "      <th>yhat</th>\n",
       "    </tr>\n",
       "    <tr>\n",
       "      <th>ds</th>\n",
       "      <th></th>\n",
       "      <th></th>\n",
       "      <th></th>\n",
       "      <th></th>\n",
       "      <th></th>\n",
       "      <th></th>\n",
       "      <th></th>\n",
       "      <th></th>\n",
       "      <th></th>\n",
       "      <th></th>\n",
       "      <th></th>\n",
       "      <th></th>\n",
       "      <th></th>\n",
       "    </tr>\n",
       "  </thead>\n",
       "  <tbody>\n",
       "    <tr>\n",
       "      <th>2020-10-18</th>\n",
       "      <td>56858.376827</td>\n",
       "      <td>74011.155</td>\n",
       "      <td>54956.308274</td>\n",
       "      <td>58769.660303</td>\n",
       "      <td>56858.376776</td>\n",
       "      <td>56858.376879</td>\n",
       "      <td>0.0</td>\n",
       "      <td>0.0</td>\n",
       "      <td>0.0</td>\n",
       "      <td>0.0</td>\n",
       "      <td>0.0</td>\n",
       "      <td>0.0</td>\n",
       "      <td>56858.376827</td>\n",
       "    </tr>\n",
       "    <tr>\n",
       "      <th>2020-10-25</th>\n",
       "      <td>58707.071832</td>\n",
       "      <td>74011.155</td>\n",
       "      <td>56835.872106</td>\n",
       "      <td>60529.240826</td>\n",
       "      <td>58707.071668</td>\n",
       "      <td>58707.071999</td>\n",
       "      <td>0.0</td>\n",
       "      <td>0.0</td>\n",
       "      <td>0.0</td>\n",
       "      <td>0.0</td>\n",
       "      <td>0.0</td>\n",
       "      <td>0.0</td>\n",
       "      <td>58707.071832</td>\n",
       "    </tr>\n",
       "    <tr>\n",
       "      <th>2020-11-01</th>\n",
       "      <td>60404.200762</td>\n",
       "      <td>74011.155</td>\n",
       "      <td>58476.305562</td>\n",
       "      <td>62235.341731</td>\n",
       "      <td>60404.200463</td>\n",
       "      <td>60404.201074</td>\n",
       "      <td>0.0</td>\n",
       "      <td>0.0</td>\n",
       "      <td>0.0</td>\n",
       "      <td>0.0</td>\n",
       "      <td>0.0</td>\n",
       "      <td>0.0</td>\n",
       "      <td>60404.200762</td>\n",
       "    </tr>\n",
       "    <tr>\n",
       "      <th>2020-11-08</th>\n",
       "      <td>61951.788026</td>\n",
       "      <td>74011.155</td>\n",
       "      <td>59978.258217</td>\n",
       "      <td>63797.954069</td>\n",
       "      <td>61951.787589</td>\n",
       "      <td>61951.788470</td>\n",
       "      <td>0.0</td>\n",
       "      <td>0.0</td>\n",
       "      <td>0.0</td>\n",
       "      <td>0.0</td>\n",
       "      <td>0.0</td>\n",
       "      <td>0.0</td>\n",
       "      <td>61951.788026</td>\n",
       "    </tr>\n",
       "    <tr>\n",
       "      <th>2020-11-15</th>\n",
       "      <td>63354.413636</td>\n",
       "      <td>74011.155</td>\n",
       "      <td>61466.649080</td>\n",
       "      <td>65228.573455</td>\n",
       "      <td>63354.413065</td>\n",
       "      <td>63354.414211</td>\n",
       "      <td>0.0</td>\n",
       "      <td>0.0</td>\n",
       "      <td>0.0</td>\n",
       "      <td>0.0</td>\n",
       "      <td>0.0</td>\n",
       "      <td>0.0</td>\n",
       "      <td>63354.413636</td>\n",
       "    </tr>\n",
       "    <tr>\n",
       "      <th>2020-11-22</th>\n",
       "      <td>64618.633390</td>\n",
       "      <td>74011.155</td>\n",
       "      <td>62711.976147</td>\n",
       "      <td>66498.362102</td>\n",
       "      <td>64618.632727</td>\n",
       "      <td>64618.634084</td>\n",
       "      <td>0.0</td>\n",
       "      <td>0.0</td>\n",
       "      <td>0.0</td>\n",
       "      <td>0.0</td>\n",
       "      <td>0.0</td>\n",
       "      <td>0.0</td>\n",
       "      <td>64618.633390</td>\n",
       "    </tr>\n",
       "  </tbody>\n",
       "</table>\n",
       "</div>"
      ],
      "text/plain": [
       "                   trend        cap    yhat_lower    yhat_upper   trend_lower  \\\n",
       "ds                                                                              \n",
       "2020-10-18  56858.376827  74011.155  54956.308274  58769.660303  56858.376776   \n",
       "2020-10-25  58707.071832  74011.155  56835.872106  60529.240826  58707.071668   \n",
       "2020-11-01  60404.200762  74011.155  58476.305562  62235.341731  60404.200463   \n",
       "2020-11-08  61951.788026  74011.155  59978.258217  63797.954069  61951.787589   \n",
       "2020-11-15  63354.413636  74011.155  61466.649080  65228.573455  63354.413065   \n",
       "2020-11-22  64618.633390  74011.155  62711.976147  66498.362102  64618.632727   \n",
       "\n",
       "             trend_upper  additive_terms  additive_terms_lower  \\\n",
       "ds                                                               \n",
       "2020-10-18  56858.376879             0.0                   0.0   \n",
       "2020-10-25  58707.071999             0.0                   0.0   \n",
       "2020-11-01  60404.201074             0.0                   0.0   \n",
       "2020-11-08  61951.788470             0.0                   0.0   \n",
       "2020-11-15  63354.414211             0.0                   0.0   \n",
       "2020-11-22  64618.634084             0.0                   0.0   \n",
       "\n",
       "            additive_terms_upper  multiplicative_terms  \\\n",
       "ds                                                       \n",
       "2020-10-18                   0.0                   0.0   \n",
       "2020-10-25                   0.0                   0.0   \n",
       "2020-11-01                   0.0                   0.0   \n",
       "2020-11-08                   0.0                   0.0   \n",
       "2020-11-15                   0.0                   0.0   \n",
       "2020-11-22                   0.0                   0.0   \n",
       "\n",
       "            multiplicative_terms_lower  multiplicative_terms_upper  \\\n",
       "ds                                                                   \n",
       "2020-10-18                         0.0                         0.0   \n",
       "2020-10-25                         0.0                         0.0   \n",
       "2020-11-01                         0.0                         0.0   \n",
       "2020-11-08                         0.0                         0.0   \n",
       "2020-11-15                         0.0                         0.0   \n",
       "2020-11-22                         0.0                         0.0   \n",
       "\n",
       "                    yhat  \n",
       "ds                        \n",
       "2020-10-18  56858.376827  \n",
       "2020-10-25  58707.071832  \n",
       "2020-11-01  60404.200762  \n",
       "2020-11-08  61951.788026  \n",
       "2020-11-15  63354.413636  \n",
       "2020-11-22  64618.633390  "
      ]
     },
     "execution_count": 48,
     "metadata": {},
     "output_type": "execute_result"
    }
   ],
   "source": [
    "prophet_prediction_l.loc[prophet_prediction_l.index>=startdate]"
   ]
  },
  {
   "cell_type": "code",
   "execution_count": 49,
   "metadata": {
    "scrolled": true
   },
   "outputs": [
    {
     "name": "stdout",
     "output_type": "stream",
     "text": [
      "Prophet MAE =  8367.04649337505\n"
     ]
    }
   ],
   "source": [
    "prophet_fit_l = prophet_prediction_l.yhat.loc[prophet_prediction_l.index>=startdate]\n",
    "print('Prophet MAE = ', mean_absolute_error(prophet_fit_l, test))"
   ]
  },
  {
   "cell_type": "code",
   "execution_count": 50,
   "metadata": {},
   "outputs": [
    {
     "name": "stdout",
     "output_type": "stream",
     "text": [
      "Prophet MSE =  180463355.35982963\n"
     ]
    }
   ],
   "source": [
    "print('Prophet MSE = ', mean_squared_error(prophet_fit_l, test))"
   ]
  },
  {
   "cell_type": "code",
   "execution_count": 51,
   "metadata": {},
   "outputs": [
    {
     "name": "stdout",
     "output_type": "stream",
     "text": [
      "Prophet RMSE =  13433.665001027442\n"
     ]
    }
   ],
   "source": [
    "print('Prophet RMSE = ',m.sqrt(mean_squared_error(prophet_fit_l, test)))"
   ]
  },
  {
   "cell_type": "code",
   "execution_count": 52,
   "metadata": {
    "scrolled": true
   },
   "outputs": [
    {
     "data": {
      "image/png": "[encoded data removed]",
      "text/plain": [
       "<Figure size 720x360 with 1 Axes>"
      ]
     },
     "metadata": {
      "needs_background": "light"
     },
     "output_type": "display_data"
    }
   ],
   "source": [
    "fig, ax3 = plt.subplots(figsize=(10,5))\n",
    "ax3.plot(data_new[:-1], label='Observation')\n",
    "ax3.plot(prophet_fit_l, label='Prophet')\n",
    "\n",
    "ax3.set_xlabel('Timeline')\n",
    "ax3.set_ylabel('Number of Cases (in thousand)')\n",
    "ax3.set_title('Prediction of Increase in New Confirmed Cases: Weekly Data')\n",
    "\n",
    "ax3.spines['top'].set_visible(False)\n",
    "ax3.spines['right'].set_visible(False)\n",
    "\n",
    "ax3.legend(frameon=False)\n",
    "\n",
    "fig.autofmt_xdate()\n",
    "\n",
    "plt.savefig('Weekly.svg', \n",
    "            bbox_inches = 'tight', transparent = False)"
   ]
  },
  {
   "cell_type": "markdown",
   "metadata": {},
   "source": [
    "### Use Weekly Data to Implement ARMA"
   ]
  },
  {
   "cell_type": "code",
   "execution_count": 53,
   "metadata": {
    "scrolled": true
   },
   "outputs": [],
   "source": [
    "del train['cap']"
   ]
  },
  {
   "cell_type": "code",
   "execution_count": 54,
   "metadata": {},
   "outputs": [],
   "source": [
    "train.set_index('ds',inplace=True)"
   ]
  },
  {
   "cell_type": "code",
   "execution_count": 55,
   "metadata": {},
   "outputs": [
    {
     "name": "stdout",
     "output_type": "stream",
     "text": [
      "Performing stepwise search to minimize aic\n",
      " ARIMA(2,2,2)(0,0,0)[0] intercept   : AIC=inf, Time=0.21 sec\n",
      " ARIMA(0,2,0)(0,0,0)[0] intercept   : AIC=502.468, Time=0.01 sec\n",
      " ARIMA(1,2,0)(0,0,0)[0] intercept   : AIC=483.190, Time=0.05 sec\n",
      " ARIMA(0,2,1)(0,0,0)[0] intercept   : AIC=487.062, Time=0.07 sec\n",
      " ARIMA(0,2,0)(0,0,0)[0]             : AIC=502.769, Time=0.01 sec\n",
      " ARIMA(2,2,0)(0,0,0)[0] intercept   : AIC=484.169, Time=0.12 sec\n",
      " ARIMA(1,2,1)(0,0,0)[0] intercept   : AIC=484.452, Time=0.11 sec\n",
      " ARIMA(2,2,1)(0,0,0)[0] intercept   : AIC=478.243, Time=0.23 sec\n",
      " ARIMA(3,2,1)(0,0,0)[0] intercept   : AIC=inf, Time=0.27 sec\n",
      " ARIMA(1,2,2)(0,0,0)[0] intercept   : AIC=486.295, Time=0.08 sec\n",
      " ARIMA(3,2,0)(0,0,0)[0] intercept   : AIC=485.043, Time=0.10 sec\n",
      " ARIMA(3,2,2)(0,0,0)[0] intercept   : AIC=inf, Time=0.33 sec\n",
      " ARIMA(2,2,1)(0,0,0)[0]             : AIC=482.230, Time=0.18 sec\n",
      "\n",
      "Best model:  ARIMA(2,2,1)(0,0,0)[0] intercept\n",
      "Total fit time: 1.787 seconds\n",
      "                               SARIMAX Results                                \n",
      "==============================================================================\n",
      "Dep. Variable:                      y   No. Observations:                   38\n",
      "Model:               SARIMAX(2, 2, 1)   Log Likelihood                -234.121\n",
      "Date:                Thu, 10 Dec 2020   AIC                            478.243\n",
      "Time:                        14:42:59   BIC                            486.160\n",
      "Sample:                             0   HQIC                           481.006\n",
      "                                 - 38                                         \n",
      "Covariance Type:                  opg                                         \n",
      "==============================================================================\n",
      "                 coef    std err          z      P>|z|      [0.025      0.975]\n",
      "------------------------------------------------------------------------------\n",
      "intercept     13.4850      4.418      3.052      0.002       4.825      22.145\n",
      "ar.L1          1.5832      0.110     14.434      0.000       1.368       1.798\n",
      "ar.L2         -0.7572      0.104     -7.251      0.000      -0.962      -0.553\n",
      "ma.L1         -0.9765      0.504     -1.936      0.053      -1.965       0.012\n",
      "sigma2      2.416e+04   1.15e+04      2.093      0.036    1536.221    4.68e+04\n",
      "===================================================================================\n",
      "Ljung-Box (Q):                       18.44   Jarque-Bera (JB):                 0.43\n",
      "Prob(Q):                              0.99   Prob(JB):                         0.81\n",
      "Heteroskedasticity (H):               1.86   Skew:                            -0.27\n",
      "Prob(H) (two-sided):                  0.30   Kurtosis:                         3.04\n",
      "===================================================================================\n",
      "\n",
      "Warnings:\n",
      "[1] Covariance matrix calculated using the outer product of gradients (complex-step).\n"
     ]
    }
   ],
   "source": [
    "model2 = pm.auto_arima(train, start_p=2, start_q=2,\n",
    "                      test='adf',        # use adftest to find optimal 'd'\n",
    "                      max_p=5, max_q=5,  # maximum p and q\n",
    "                      m=1,               # frequency of series\n",
    "                      d=None,            # automatically find 'd'\n",
    "                      seasonal=False,    # Without Seasonality\n",
    "                      start_P=0,\n",
    "                      trace=True,\n",
    "                      error_action='ignore',\n",
    "                      suppress_warnings=True,\n",
    "                      stepwise=True)\n",
    "print(model2.summary())\n",
    "#(2,2,1)"
   ]
  },
  {
   "cell_type": "code",
   "execution_count": 56,
   "metadata": {},
   "outputs": [],
   "source": [
    "warnings.filterwarnings('ignore')\n",
    "model2 = SARIMAX(train, order = (2,2,1))"
   ]
  },
  {
   "cell_type": "code",
   "execution_count": 57,
   "metadata": {},
   "outputs": [],
   "source": [
    "result2 = model2.fit(disp=True)"
   ]
  },
  {
   "cell_type": "code",
   "execution_count": 58,
   "metadata": {},
   "outputs": [
    {
     "data": {
      "image/png": "[encoded data removed]",
      "text/plain": [
       "<Figure size 720x360 with 1 Axes>"
      ]
     },
     "metadata": {
      "needs_background": "light"
     },
     "output_type": "display_data"
    }
   ],
   "source": [
    "fig, ax = plt.subplots(figsize=(10,5))\n",
    "sarimax_pred = result2.predict(\n",
    "    start = startdate, \n",
    "    end = '2020-11-18', \n",
    "    dynamic = False)\n",
    "ax.plot(data_new[:-1], label = 'True Observation')\n",
    "ax.plot(sarimax_pred, label = 'ARIMA(2,2,1) Prediction')\n",
    "\n",
    "ax.set_xlabel('Timeline')\n",
    "ax.set_ylabel('Number of Cases (in thousand)')\n",
    "ax.set_title('Increase in Weekly New Confirmed Cases')\n",
    "\n",
    "ax.spines['top'].set_visible(False)\n",
    "ax.spines['right'].set_visible(False)\n",
    "\n",
    "ax.legend(frameon=False)\n",
    "\n",
    "fig.autofmt_xdate()\n",
    "\n",
    "plt.savefig('SARIMAX prediction weekly.svg',bbox_inches = 'tight', transparent = False)"
   ]
  },
  {
   "cell_type": "code",
   "execution_count": 59,
   "metadata": {},
   "outputs": [
    {
     "name": "stdout",
     "output_type": "stream",
     "text": [
      "Prophet MAE =  8232.025103354514 \n",
      " Prophet RMSE =  14542.440743997813\n"
     ]
    }
   ],
   "source": [
    "print('Prophet MAE = ', mean_absolute_error(sarimax_pred, test),'\\n',\n",
    "     'Prophet RMSE = ', m.sqrt(mean_squared_error(sarimax_pred, test)))"
   ]
  },
  {
   "cell_type": "code",
   "execution_count": 60,
   "metadata": {},
   "outputs": [],
   "source": [
    "mae = pd.DataFrame({'MODEL':['ARIMA(5,1,5)','Linear FB Prophet',\n",
    "                             'Seasonal Adjusted Logistic FB Prophet',\n",
    "                             'Logistic FB Prophet with Weekly Data',\n",
    "                            'ARIMA(2,2,1) with Weekly Data'],\n",
    "                    'MAE':[50.9260,61.2131,50.3364,8367.0465,8232.0251],\n",
    "                   'RMSE':[62.6179,71.4905,61.4346,13433.6650,14542.4407]})"
   ]
  },
  {
   "cell_type": "code",
   "execution_count": 61,
   "metadata": {
    "scrolled": false
   },
   "outputs": [
    {
     "data": {
      "text/html": [
       "<div>\n",
       "<style scoped>\n",
       "    .dataframe tbody tr th:only-of-type {\n",
       "        vertical-align: middle;\n",
       "    }\n",
       "\n",
       "    .dataframe tbody tr th {\n",
       "        vertical-align: top;\n",
       "    }\n",
       "\n",
       "    .dataframe thead th {\n",
       "        text-align: right;\n",
       "    }\n",
       "</style>\n",
       "<table border=\"1\" class=\"dataframe\">\n",
       "  <thead>\n",
       "    <tr style=\"text-align: right;\">\n",
       "      <th></th>\n",
       "      <th>MODEL</th>\n",
       "      <th>MAE</th>\n",
       "      <th>RMSE</th>\n",
       "    </tr>\n",
       "  </thead>\n",
       "  <tbody>\n",
       "    <tr>\n",
       "      <th>0</th>\n",
       "      <td>ARIMA(5,1,5)</td>\n",
       "      <td>50.9260</td>\n",
       "      <td>62.6179</td>\n",
       "    </tr>\n",
       "    <tr>\n",
       "      <th>1</th>\n",
       "      <td>Linear FB Prophet</td>\n",
       "      <td>61.2131</td>\n",
       "      <td>71.4905</td>\n",
       "    </tr>\n",
       "    <tr>\n",
       "      <th>2</th>\n",
       "      <td>Seasonal Adjusted Logistic FB Prophet</td>\n",
       "      <td>50.3364</td>\n",
       "      <td>61.4346</td>\n",
       "    </tr>\n",
       "    <tr>\n",
       "      <th>3</th>\n",
       "      <td>Logistic FB Prophet with Weekly Data</td>\n",
       "      <td>8367.0465</td>\n",
       "      <td>13433.6650</td>\n",
       "    </tr>\n",
       "    <tr>\n",
       "      <th>4</th>\n",
       "      <td>ARIMA(2,2,1) with Weekly Data</td>\n",
       "      <td>8232.0251</td>\n",
       "      <td>14542.4407</td>\n",
       "    </tr>\n",
       "  </tbody>\n",
       "</table>\n",
       "</div>"
      ],
      "text/plain": [
       "                                   MODEL        MAE        RMSE\n",
       "0                           ARIMA(5,1,5)    50.9260     62.6179\n",
       "1                      Linear FB Prophet    61.2131     71.4905\n",
       "2  Seasonal Adjusted Logistic FB Prophet    50.3364     61.4346\n",
       "3   Logistic FB Prophet with Weekly Data  8367.0465  13433.6650\n",
       "4          ARIMA(2,2,1) with Weekly Data  8232.0251  14542.4407"
      ]
     },
     "execution_count": 61,
     "metadata": {},
     "output_type": "execute_result"
    }
   ],
   "source": [
    "mae\n",
    "#print(mae.to_latex(index=False))"
   ]
  },
  {
   "cell_type": "markdown",
   "metadata": {},
   "source": [
    "We can see from the table above: \n",
    "* the Seasonal Adjusted Logistic FB Prophet shows the best performance in prediction\n",
    "* The MAE for the last two models with weekly data are not comparable to the first three\n",
    "* For both daily and weekly data, Prophet model predict better than ARIMA"
   ]
  },
  {
   "cell_type": "markdown",
   "metadata": {},
   "source": [
    "### ML Algorithm - XGBOOST"
   ]
  },
  {
   "cell_type": "code",
   "execution_count": 62,
   "metadata": {
    "scrolled": true
   },
   "outputs": [
    {
     "name": "stdout",
     "output_type": "stream",
     "text": [
      "Requirement already satisfied: xgboost in /opt/anaconda3/lib/python3.8/site-packages (1.3.0.post0)\n",
      "Requirement already satisfied: numpy in /opt/anaconda3/lib/python3.8/site-packages (from xgboost) (1.18.5)\n",
      "Requirement already satisfied: scipy in /opt/anaconda3/lib/python3.8/site-packages (from xgboost) (1.5.0)\n",
      "Note: you may need to restart the kernel to use updated packages.\n"
     ]
    }
   ],
   "source": [
    "#pip install xgboost"
   ]
  },
  {
   "cell_type": "code",
   "execution_count": 66,
   "metadata": {},
   "outputs": [],
   "source": [
    "import numpy as np\n",
    "from xgboost import XGBRegressor\n",
    "import datetime\n",
    "from statsmodels.tsa.seasonal import seasonal_decompose\n",
    "from sklearn.model_selection import TimeSeriesSplit\n",
    "from sklearn.preprocessing import StandardScaler"
   ]
  },
  {
   "cell_type": "code",
   "execution_count": 67,
   "metadata": {
    "scrolled": true
   },
   "outputs": [
    {
     "data": {
      "text/html": [
       "<div>\n",
       "<style scoped>\n",
       "    .dataframe tbody tr th:only-of-type {\n",
       "        vertical-align: middle;\n",
       "    }\n",
       "\n",
       "    .dataframe tbody tr th {\n",
       "        vertical-align: top;\n",
       "    }\n",
       "\n",
       "    .dataframe thead th {\n",
       "        text-align: right;\n",
       "    }\n",
       "</style>\n",
       "<table border=\"1\" class=\"dataframe\">\n",
       "  <thead>\n",
       "    <tr style=\"text-align: right;\">\n",
       "      <th></th>\n",
       "      <th>y</th>\n",
       "    </tr>\n",
       "    <tr>\n",
       "      <th>ds</th>\n",
       "      <th></th>\n",
       "    </tr>\n",
       "  </thead>\n",
       "  <tbody>\n",
       "    <tr>\n",
       "      <th>2020-01-23</th>\n",
       "      <td>0.000</td>\n",
       "    </tr>\n",
       "    <tr>\n",
       "      <th>2020-01-24</th>\n",
       "      <td>0.001</td>\n",
       "    </tr>\n",
       "    <tr>\n",
       "      <th>2020-01-25</th>\n",
       "      <td>0.000</td>\n",
       "    </tr>\n",
       "    <tr>\n",
       "      <th>2020-01-26</th>\n",
       "      <td>0.003</td>\n",
       "    </tr>\n",
       "    <tr>\n",
       "      <th>2020-01-27</th>\n",
       "      <td>0.000</td>\n",
       "    </tr>\n",
       "  </tbody>\n",
       "</table>\n",
       "</div>"
      ],
      "text/plain": [
       "                y\n",
       "ds               \n",
       "2020-01-23  0.000\n",
       "2020-01-24  0.001\n",
       "2020-01-25  0.000\n",
       "2020-01-26  0.003\n",
       "2020-01-27  0.000"
      ]
     },
     "execution_count": 67,
     "metadata": {},
     "output_type": "execute_result"
    }
   ],
   "source": [
    "data = pd.DataFrame(data['y'])\n",
    "data.head()"
   ]
  },
  {
   "cell_type": "code",
   "execution_count": 68,
   "metadata": {},
   "outputs": [],
   "source": [
    "# Model feature selection\n",
    "def featurize(t):\n",
    "    X = pd.DataFrame()\n",
    "\n",
    "    X['day'] = t.index.day\n",
    "    X['month'] = t.index.month\n",
    "    X['quarter'] = t.index.quarter\n",
    "    X['dayofweek'] = t.index.dayofweek\n",
    "    X['dayofyear'] = t.index.dayofyear\n",
    "    X['weekofyear'] = t.index.weekofyear\n",
    "    y = t.y\n",
    "    return X, y"
   ]
  },
  {
   "cell_type": "code",
   "execution_count": 69,
   "metadata": {},
   "outputs": [
    {
     "data": {
      "text/plain": [
       "ds\n",
       "2020-01-23    0.000\n",
       "2020-01-24    0.001\n",
       "2020-01-25    0.000\n",
       "2020-01-26    0.003\n",
       "2020-01-27    0.000\n",
       "Name: y, dtype: float64"
      ]
     },
     "execution_count": 69,
     "metadata": {},
     "output_type": "execute_result"
    }
   ],
   "source": [
    "featurize(data)[1].head()"
   ]
  },
  {
   "cell_type": "code",
   "execution_count": 73,
   "metadata": {},
   "outputs": [],
   "source": [
    "# split training set and test set according to selected features\n",
    "X_train, y_train = featurize(\n",
    "    data.loc[data.index < pd.to_datetime(startdate)])\n",
    "X_test, y_test = featurize(\n",
    "    data.loc[data.index >= pd.to_datetime(startdate)])"
   ]
  },
  {
   "cell_type": "code",
   "execution_count": 74,
   "metadata": {},
   "outputs": [],
   "source": [
    "# Data preprocessing\n",
    "scaler = StandardScaler()\n",
    "scaler.fit(X_train)\n",
    "\n",
    "scaler_train = scaler.transform(X_train)\n",
    "scaler_test = scaler.transform(X_test)"
   ]
  },
  {
   "cell_type": "code",
   "execution_count": 82,
   "metadata": {
    "scrolled": false
   },
   "outputs": [
    {
     "name": "stdout",
     "output_type": "stream",
     "text": [
      "[0]\tvalidation_0-rmse:25.87251\tvalidation_1-rmse:101.46249\n",
      "[1]\tvalidation_0-rmse:18.67628\tvalidation_1-rmse:90.83727\n",
      "[2]\tvalidation_0-rmse:13.57597\tvalidation_1-rmse:85.03245\n",
      "[3]\tvalidation_0-rmse:10.00489\tvalidation_1-rmse:79.60883\n",
      "[4]\tvalidation_0-rmse:7.46696\tvalidation_1-rmse:75.29715\n",
      "[5]\tvalidation_0-rmse:5.62537\tvalidation_1-rmse:72.67381\n",
      "[6]\tvalidation_0-rmse:4.31664\tvalidation_1-rmse:69.69807\n",
      "[7]\tvalidation_0-rmse:3.37693\tvalidation_1-rmse:67.46832\n",
      "[8]\tvalidation_0-rmse:2.71181\tvalidation_1-rmse:66.02246\n",
      "[9]\tvalidation_0-rmse:2.23267\tvalidation_1-rmse:64.74673\n",
      "XGBOOST MAE =  54.043124460220355\n",
      "XGBOOST RMSE =  64.74672883597121\n"
     ]
    }
   ],
   "source": [
    "# Train XGBOOST model\n",
    "XGBOOST_model = XGBRegressor(n_estimators=10)\n",
    "XGBOOST_model.fit(scaler_train, y_train,\n",
    "                  eval_set=[(scaler_train, y_train), (scaler_test, y_test)],\n",
    "                  verbose=True)\n",
    "# Use XGBOOST model to make predictions\n",
    "XGBOOST_prediction = XGBOOST_model.predict(scaler_test)\n",
    "# Print evaluation criteria for XGBOOST model\n",
    "print('XGBOOST MAE = ', mean_absolute_error(XGBOOST_prediction, y_test))\n",
    "print('XGBOOST RMSE = ', m.sqrt(mean_squared_error(XGBOOST_prediction, y_test)))"
   ]
  },
  {
   "cell_type": "code",
   "execution_count": 88,
   "metadata": {},
   "outputs": [
    {
     "data": {
      "image/png": "[encoded data removed]",
      "text/plain": [
       "<Figure size 720x360 with 1 Axes>"
      ]
     },
     "metadata": {
      "needs_background": "light"
     },
     "output_type": "display_data"
    }
   ],
   "source": [
    "# The XGBOOST model predicted value is converted to DataFrame\n",
    "# Test set index is mapped to the predicted value\n",
    "XGBOOST_df = pd.DataFrame(XGBOOST_prediction)\n",
    "XGBOOST_df.index = y_test.index\n",
    "\n",
    "# the Visualization of predicted values and true values\n",
    "fig, ax3 = plt.subplots(figsize=(10,5))\n",
    "ax3.plot(data, label='True Observation')\n",
    "ax3.plot(XGBOOST_df, label='XGBOOST Prediction')\n",
    "ax3.legend(loc=\"upper left\")\n",
    "ax3.set_title('Increment of New Confirmed Cases')\n",
    "ax3.set_ylabel('Number of Cases (in thousand)')\n",
    "ax3.set_xlabel('Timeline', fontdict={'family': 'Times New Roman', 'size': 16})\n",
    "\n",
    "\n",
    "ax3.spines['top'].set_visible(False)\n",
    "ax3.spines['right'].set_visible(False)\n",
    "\n",
    "ax3.legend(frameon=False)\n",
    "\n",
    "fig.autofmt_xdate()\n",
    "\n",
    "plt.savefig('xgboost.svg',bbox_inches = 'tight', transparent = False)"
   ]
  },
  {
   "cell_type": "markdown",
   "metadata": {},
   "source": [
    "### *Compare all MAE and RMSEs"
   ]
  },
  {
   "cell_type": "code",
   "execution_count": 84,
   "metadata": {},
   "outputs": [],
   "source": [
    "mae = pd.DataFrame({'MODEL':['ARIMA(5,1,5)','Linear FB Prophet',\n",
    "                             'Seasonal Adjusted Logistic FB Prophet',\n",
    "                             'XGBOOST',\n",
    "                             'ARIMA(2,2,1) with Weekly Data',\n",
    "                             'Logistic FB Prophet with Weekly Data'],\n",
    "                    'MAE':[50.9260,61.2131,50.3364,54.0431,8232.0251,8367.0465],\n",
    "                   'RMSE':[62.6179,71.4905,61.4346,64.7467,14542.4407,13433.6650]})"
   ]
  },
  {
   "cell_type": "code",
   "execution_count": 85,
   "metadata": {},
   "outputs": [
    {
     "data": {
      "text/html": [
       "<div>\n",
       "<style scoped>\n",
       "    .dataframe tbody tr th:only-of-type {\n",
       "        vertical-align: middle;\n",
       "    }\n",
       "\n",
       "    .dataframe tbody tr th {\n",
       "        vertical-align: top;\n",
       "    }\n",
       "\n",
       "    .dataframe thead th {\n",
       "        text-align: right;\n",
       "    }\n",
       "</style>\n",
       "<table border=\"1\" class=\"dataframe\">\n",
       "  <thead>\n",
       "    <tr style=\"text-align: right;\">\n",
       "      <th></th>\n",
       "      <th>MODEL</th>\n",
       "      <th>MAE</th>\n",
       "      <th>RMSE</th>\n",
       "    </tr>\n",
       "  </thead>\n",
       "  <tbody>\n",
       "    <tr>\n",
       "      <th>0</th>\n",
       "      <td>ARIMA(5,1,5)</td>\n",
       "      <td>50.9260</td>\n",
       "      <td>62.6179</td>\n",
       "    </tr>\n",
       "    <tr>\n",
       "      <th>1</th>\n",
       "      <td>Linear FB Prophet</td>\n",
       "      <td>61.2131</td>\n",
       "      <td>71.4905</td>\n",
       "    </tr>\n",
       "    <tr>\n",
       "      <th>2</th>\n",
       "      <td>Seasonal Adjusted Logistic FB Prophet</td>\n",
       "      <td>50.3364</td>\n",
       "      <td>61.4346</td>\n",
       "    </tr>\n",
       "    <tr>\n",
       "      <th>3</th>\n",
       "      <td>XGBOOST</td>\n",
       "      <td>54.0431</td>\n",
       "      <td>64.7467</td>\n",
       "    </tr>\n",
       "    <tr>\n",
       "      <th>4</th>\n",
       "      <td>ARIMA(2,2,1) with Weekly Data</td>\n",
       "      <td>8232.0251</td>\n",
       "      <td>14542.4407</td>\n",
       "    </tr>\n",
       "    <tr>\n",
       "      <th>5</th>\n",
       "      <td>Logistic FB Prophet with Weekly Data</td>\n",
       "      <td>8367.0465</td>\n",
       "      <td>13433.6650</td>\n",
       "    </tr>\n",
       "  </tbody>\n",
       "</table>\n",
       "</div>"
      ],
      "text/plain": [
       "                                   MODEL        MAE        RMSE\n",
       "0                           ARIMA(5,1,5)    50.9260     62.6179\n",
       "1                      Linear FB Prophet    61.2131     71.4905\n",
       "2  Seasonal Adjusted Logistic FB Prophet    50.3364     61.4346\n",
       "3                                XGBOOST    54.0431     64.7467\n",
       "4          ARIMA(2,2,1) with Weekly Data  8232.0251  14542.4407\n",
       "5   Logistic FB Prophet with Weekly Data  8367.0465  13433.6650"
      ]
     },
     "execution_count": 85,
     "metadata": {},
     "output_type": "execute_result"
    }
   ],
   "source": [
    "mae"
   ]
  },
  {
   "cell_type": "markdown",
   "metadata": {},
   "source": [
    "The table above compares MAEs and RMEs from all models used for this section. It suggest that Prophet with logistic model outperform others based on current split of training and testing set.\n",
    "\n",
    "*Note: Please check part 2 for the exact forecast on future infection trend"
   ]
  }
 ],
 "metadata": {
  "kernelspec": {
   "display_name": "Python 3",
   "language": "python",
   "name": "python3"
  },
  "language_info": {
   "codemirror_mode": {
    "name": "ipython",
    "version": 3
   },
   "file_extension": ".py",
   "mimetype": "text/x-python",
   "name": "python",
   "nbconvert_exporter": "python",
   "pygments_lexer": "ipython3",
   "version": "3.8.3"
  }
 },
 "nbformat": 4,
 "nbformat_minor": 2
}
